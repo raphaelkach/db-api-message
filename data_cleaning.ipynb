{
 "cells": [
  {
   "cell_type": "code",
   "execution_count": 1,
   "metadata": {},
   "outputs": [
    {
     "name": "stdout",
     "output_type": "stream",
     "text": [
      "Cleaned dataset without duplicates, unwanted rows, and specified columns has been saved as 'clean.csv'.\n"
     ]
    }
   ],
   "source": [
    "import os\n",
    "import pandas as pd\n",
    "\n",
    "# Step 1: Load and combine all CSV files from the specified folder\n",
    "folder_path = 'data'\n",
    "csv_files = [os.path.join(folder_path, file) for file in os.listdir(folder_path) if file.endswith('.csv')]\n",
    "dataframes = [pd.read_csv(file, delimiter=';') for file in csv_files]\n",
    "combined_df = pd.concat(dataframes, ignore_index=True)\n",
    "\n",
    "# Step 2: Save the combined data to a temporary CSV\n",
    "output_path = 'combined_data.csv'\n",
    "combined_df.to_csv(output_path, index=False, sep=';')\n",
    "\n",
    "# Step 3: Load the combined data and clean it\n",
    "data = pd.read_csv(output_path, sep=';')\n",
    "\n",
    "# Remove rows where the 'ID' column (or first column) starts with '\"'\n",
    "data = data[~data['ID'].astype(str).str.startswith('\"')]\n",
    "\n",
    "# Strip leading/trailing whitespace from all text columns\n",
    "str_columns = data.select_dtypes(include=['object']).columns\n",
    "data[str_columns] = data[str_columns].apply(lambda x: x.str.strip())\n",
    "\n",
    "# Remove duplicate rows based on specified columns\n",
    "unique_data = data.drop_duplicates(subset=[\n",
    "    'ID', 'Überschrift', 'Kurztext', 'Text', 'Linien', \n",
    "    'Startdatum', 'Enddatum', 'Quelle', 'Anhänge', \n",
    "    'Links', 'Bild', 'Kategorien', 'Nachrichtentypen', 'Betroffene Haltestellen'\n",
    "])\n",
    "\n",
    "# Drop the 'Bild' and 'Anhänge' columns\n",
    "unique_data = unique_data.drop(columns=['Bild', 'Anhänge'], errors='ignore')\n",
    "\n",
    "# Step 4: Save the cleaned data\n",
    "unique_data.to_csv('clean.csv', index=False)\n",
    "print(\"Cleaned dataset without duplicates, unwanted rows, and specified columns has been saved as 'clean.csv'.\")"
   ]
  },
  {
   "cell_type": "code",
   "execution_count": 2,
   "metadata": {},
   "outputs": [
    {
     "data": {
      "text/plain": [
       "Überschrift\n",
       "Einschränkungen im S-Bahnverkehr auf mehreren Linien aufgrund von Instandhaltungsarbeiten                            35\n",
       "Ausfall der Linie S62                                                                                                24\n",
       "Ausfall Linie S62                                                                                                    23\n",
       "Stuttgart-Vaihingen <> Filderstadt: Zugausfälle und Ersatzverkehr mit Bussen                                         22\n",
       "Stuttgart Hbf <> Stuttgart-Vaihingen/Zuffenhausen: Zugausfälle und Ersatzverkehr mit Bussen                          15\n",
       "                                                                                                                     ..\n",
       "S1, S2 : Weichenstörung S-Rohr behoben                                                                                1\n",
       "S4, S5, S6, S60, S62: Weichenstörung im Bahnhof Zuffenhausen                                                          1\n",
       "Defekt am Stellwerk in Wendlingen: Fahrtabweichungen auf der Linie S1                                                 1\n",
       "Personen wurden aus dem Gleisbereich entfernt. Vorübergehend noch Fahrtabweichungen bei den Linien S1, S2 und S3.     1\n",
       "Feuerwehreinsatz an der Strecke: Fahrtabweichungen Linie S1 zwischen Bad Cannstatt und Esslingen                      1\n",
       "Name: count, Length: 1251, dtype: int64"
      ]
     },
     "execution_count": 2,
     "metadata": {},
     "output_type": "execute_result"
    }
   ],
   "source": [
    "unique_data['Überschrift'].value_counts(dropna=False)"
   ]
  }
 ],
 "metadata": {
  "kernelspec": {
   "display_name": "message-api-db-VLu35GEs-py3.13",
   "language": "python",
   "name": "python3"
  },
  "language_info": {
   "codemirror_mode": {
    "name": "ipython",
    "version": 3
   },
   "file_extension": ".py",
   "mimetype": "text/x-python",
   "name": "python",
   "nbconvert_exporter": "python",
   "pygments_lexer": "ipython3",
   "version": "3.13.2"
  }
 },
 "nbformat": 4,
 "nbformat_minor": 2
}
