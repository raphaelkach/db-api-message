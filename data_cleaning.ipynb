{
 "cells": [
  {
   "cell_type": "code",
   "execution_count": 1,
   "metadata": {},
   "outputs": [
    {
     "name": "stdout",
     "output_type": "stream",
     "text": [
      "Datensatz ohne Duplikate und unerwünschte Zeilen wurde in 'clean.csv' gespeichert.\n"
     ]
    }
   ],
   "source": [
    "import pandas as pd\n",
    "\n",
    "# Laden Sie den Datensatz und überspringen Sie leere Zeilen\n",
    "data = pd.read_csv('combined_data.csv', sep=';', skip_blank_lines=True)\n",
    "\n",
    "# Entfernen Sie Zeilen, bei denen die erste Spalte (z.B. 'ID') mit \" beginnt\n",
    "# Ersetzen Sie 'ID' durch den tatsächlichen Namen der ersten Spalte, falls anders\n",
    "data = data[~data['ID'].astype(str).str.startswith('\"')]\n",
    "\n",
    "# Entfernen Sie doppelte Zeilen basierend auf den angegebenen Spalten\n",
    "unique_data = data.drop_duplicates(subset=[\n",
    "    'ID', 'Überschrift', 'Kurztext', 'Text', 'Linien', \n",
    "    'Startdatum', 'Enddatum', 'Quelle', 'Anhänge', \n",
    "    'Links', 'Bild', 'Kategorien', 'Nachrichtentypen', 'Betroffene Haltestellen'\n",
    "])\n",
    "\n",
    "# Speichern Sie das Ergebnis in 'clean.csv'\n",
    "unique_data.to_csv('clean.csv', index=False)\n",
    "print(\"Datensatz ohne Duplikate und unerwünschte Zeilen wurde in 'clean.csv' gespeichert.\")"
   ]
  }
 ],
 "metadata": {
  "kernelspec": {
   "display_name": "message-api-db-VLu35GEs-py3.11",
   "language": "python",
   "name": "python3"
  },
  "language_info": {
   "codemirror_mode": {
    "name": "ipython",
    "version": 3
   },
   "file_extension": ".py",
   "mimetype": "text/x-python",
   "name": "python",
   "nbconvert_exporter": "python",
   "pygments_lexer": "ipython3",
   "version": "3.11.5"
  }
 },
 "nbformat": 4,
 "nbformat_minor": 2
}
